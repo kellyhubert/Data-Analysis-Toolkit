{
 "cells": [
  {
   "cell_type": "markdown",
   "id": "88e2f3b8-d28f-432d-82c4-57c67dbc9114",
   "metadata": {},
   "source": [
    "Scripts that Automaticaly sort file\n"
   ]
  },
  {
   "cell_type": "code",
   "execution_count": 2,
   "id": "278d5fb5-edf5-497d-b91d-3ed80c118829",
   "metadata": {},
   "outputs": [],
   "source": [
    "import os, shutil"
   ]
  },
  {
   "cell_type": "code",
   "execution_count": 40,
   "id": "78d1582a-169b-44df-b47c-4eabb004194f",
   "metadata": {},
   "outputs": [],
   "source": [
    "path =r\"C:/Users/educa/Desktop/image/\""
   ]
  },
  {
   "cell_type": "code",
   "execution_count": 105,
   "id": "ced0cbe2-f671-48ef-9a4f-0a54f37f57ff",
   "metadata": {},
   "outputs": [
    {
     "name": "stdout",
     "output_type": "stream",
     "text": [
      "['Doc file', 'image fil', 'text file']\n"
     ]
    }
   ],
   "source": [
    "file_name= os.listdir(path)\n",
    "print(file_name)"
   ]
  },
  {
   "cell_type": "code",
   "execution_count": 74,
   "id": "9e69eb76-a051-444d-af24-338ad190ea4c",
   "metadata": {},
   "outputs": [],
   "source": [
    "folder_name= ['Doc file','text file','image fil']"
   ]
  },
  {
   "cell_type": "code",
   "execution_count": 76,
   "id": "4071ac84-8166-4072-8f4e-d6a9453f459d",
   "metadata": {},
   "outputs": [
    {
     "name": "stdout",
     "output_type": "stream",
     "text": [
      "C:/Users/educa/Desktop/image/Doc file\n",
      "C:/Users/educa/Desktop/image/text file\n",
      "C:/Users/educa/Desktop/image/image fil\n"
     ]
    }
   ],
   "source": [
    "for loop in range(0,3):\n",
    "    if not os.path.exists(path + folder_name[loop]):\n",
    "        print(path +folder_name[loop])\n",
    "        os.makedirs(path + folder_name[loop])"
   ]
  },
  {
   "cell_type": "code",
   "execution_count": 103,
   "id": "4e4ad559-5a71-4e5e-bdf1-becff184e44d",
   "metadata": {},
   "outputs": [
    {
     "name": "stdout",
     "output_type": "stream",
     "text": [
      " There are files that are not moved\n",
      " There are files that are not moved\n",
      " There are files that are not moved\n",
      " There are files that are not moved\n",
      " There are files that are not moved\n"
     ]
    }
   ],
   "source": [
    "for file in file_name:\n",
    "    if \".jpg\" in file and not os.path.exists(path + \"image fil/\" +file):\n",
    "        shutil.move( path +file, path+\"image fil/\" + file)\n",
    "    elif \".jpeg\" in file and not os.path.exists(path+\"image fil/\"+ file):\n",
    "        shutil.move( path +file, path+\"image fil/\" + file)\n",
    "    elif \".docx\" in file and not os.path.exists(path+ \"doc file/\" +file):\n",
    "        shutil.move(path+ file, path+ \"Doc file/\" +file)\n",
    "    else:\n",
    "        print(\" There are files that are not moved\")"
   ]
  },
  {
   "cell_type": "code",
   "execution_count": null,
   "id": "e6450fc1-26a0-40d6-b02d-2c309067517d",
   "metadata": {},
   "outputs": [],
   "source": []
  },
  {
   "cell_type": "code",
   "execution_count": null,
   "id": "dd11b0ab-ff03-42a2-987b-c0966177050d",
   "metadata": {},
   "outputs": [],
   "source": []
  }
 ],
 "metadata": {
  "kernelspec": {
   "display_name": "Python [conda env:anaconda3] *",
   "language": "python",
   "name": "conda-env-anaconda3-py"
  },
  "language_info": {
   "codemirror_mode": {
    "name": "ipython",
    "version": 3
   },
   "file_extension": ".py",
   "mimetype": "text/x-python",
   "name": "python",
   "nbconvert_exporter": "python",
   "pygments_lexer": "ipython3",
   "version": "3.12.7"
  }
 },
 "nbformat": 4,
 "nbformat_minor": 5
}
