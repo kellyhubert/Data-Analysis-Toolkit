{
 "cells": [
  {
   "cell_type": "markdown",
   "id": "879eb9e5-8c6f-4b75-ad80-a66ff19dd021",
   "metadata": {},
   "source": [
    "BMI caclulater"
   ]
  },
  {
   "cell_type": "code",
   "execution_count": 42,
   "id": "859d490d-f367-4785-b21a-3b4d88ba5280",
   "metadata": {},
   "outputs": [
    {
     "name": "stdin",
     "output_type": "stream",
     "text": [
      "Enter your name kelly\n",
      "Enter your weight in pounds:  110\n",
      "Enter your height in inches:  80\n"
     ]
    }
   ],
   "source": [
    "name= input('Enter your name')\n",
    "weight= int(input(\"Enter your weight in pounds: \"))\n",
    "height= int(input(\"Enter your height in inches: \"))"
   ]
  },
  {
   "cell_type": "code",
   "execution_count": 44,
   "id": "905e631c-dd13-4bc7-97ef-20729d3027a7",
   "metadata": {},
   "outputs": [
    {
     "name": "stdout",
     "output_type": "stream",
     "text": [
      "12.0828125\n"
     ]
    }
   ],
   "source": [
    "BMI= (weight* 703) / (height* height)\n",
    "print(BMI)"
   ]
  },
  {
   "cell_type": "code",
   "execution_count": 48,
   "id": "8d6d09ff-5c2d-46cc-936c-69f74ffd87a4",
   "metadata": {},
   "outputs": [
    {
     "name": "stdout",
     "output_type": "stream",
     "text": [
      "Underweight\n"
     ]
    }
   ],
   "source": [
    "if BMI>0:\n",
    "    if BMI<18.5:\n",
    "        print(\"Underweight\")\n",
    "    elif 18.5<= BMI <=24.9:\n",
    "        print('Normal weight')\n",
    "    elif 30 <= BMI <= 34.9:\n",
    "        print('Obese')\n",
    "    elif 35 <=BMI <=39.9:\n",
    "        print('very obese')\n",
    "    else :\n",
    "        print('Morbidly Obese')\n",
    "else:\n",
    "    print(\" enter a valid parameter\")"
   ]
  },
  {
   "cell_type": "code",
   "execution_count": null,
   "id": "81354a76-d72d-4de8-8155-7625dbb958d5",
   "metadata": {},
   "outputs": [],
   "source": []
  }
 ],
 "metadata": {
  "kernelspec": {
   "display_name": "Python [conda env:base]",
   "language": "python",
   "name": "conda-base-py"
  },
  "language_info": {
   "codemirror_mode": {
    "name": "ipython",
    "version": 3
   },
   "file_extension": ".py",
   "mimetype": "text/x-python",
   "name": "python",
   "nbconvert_exporter": "python",
   "pygments_lexer": "ipython3",
   "version": "3.12.7"
  }
 },
 "nbformat": 4,
 "nbformat_minor": 5
}
